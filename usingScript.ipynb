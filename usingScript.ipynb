{
  "nbformat": 4,
  "nbformat_minor": 0,
  "metadata": {
    "colab": {
      "name": "Untitled0.ipynb",
      "provenance": [],
      "collapsed_sections": [],
      "include_colab_link": true
    },
    "kernelspec": {
      "name": "python3",
      "display_name": "Python 3"
    }
  },
  "cells": [
    {
      "cell_type": "markdown",
      "metadata": {
        "id": "view-in-github",
        "colab_type": "text"
      },
      "source": [
        "<a href=\"https://colab.research.google.com/github/sathuvivek/nlp-in-practice/blob/master/usingScript.ipynb\" target=\"_parent\"><img src=\"https://colab.research.google.com/assets/colab-badge.svg\" alt=\"Open In Colab\"/></a>"
      ]
    },
    {
      "cell_type": "code",
      "metadata": {
        "id": "yabH48QZfy30",
        "colab_type": "code",
        "outputId": "e6864ff8-61fc-4ddb-fbb4-10545de34719",
        "colab": {
          "resources": {
            "http://localhost:8080/nbextensions/google.colab/files.js": {
              "data": "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",
              "ok": true,
              "headers": [
                [
                  "content-type",
                  "application/javascript"
                ]
              ],
              "status": 200,
              "status_text": ""
            }
          },
          "base_uri": "https://localhost:8080/",
          "height": 71
        }
      },
      "source": [
        "from google.colab import files\n",
        "uploaded = files.upload()\n"
      ],
      "execution_count": 12,
      "outputs": [
        {
          "output_type": "display_data",
          "data": {
            "text/html": [
              "\n",
              "     <input type=\"file\" id=\"files-194572ee-f7f2-42d3-ace9-4d1363a74283\" name=\"files[]\" multiple disabled />\n",
              "     <output id=\"result-194572ee-f7f2-42d3-ace9-4d1363a74283\">\n",
              "      Upload widget is only available when the cell has been executed in the\n",
              "      current browser session. Please rerun this cell to enable.\n",
              "      </output>\n",
              "      <script src=\"/nbextensions/google.colab/files.js\"></script> "
            ],
            "text/plain": [
              "<IPython.core.display.HTML object>"
            ]
          },
          "metadata": {
            "tags": []
          }
        },
        {
          "output_type": "stream",
          "text": [
            "Saving ScriptIncludesInfo.csv to ScriptIncludesInfo (2).csv\n"
          ],
          "name": "stdout"
        }
      ]
    },
    {
      "cell_type": "code",
      "metadata": {
        "id": "GzZkWaMdmFmm",
        "colab_type": "code",
        "colab": {}
      },
      "source": [
        "import io\n",
        "import pandas as pd\n",
        "df_idf = pd.read_csv(io.BytesIO(uploaded['ScriptIncludesInfo.csv']), encoding='cp1252')"
      ],
      "execution_count": 0,
      "outputs": []
    },
    {
      "cell_type": "code",
      "metadata": {
        "id": "3Nb-XaEHowGD",
        "colab_type": "code",
        "outputId": "d1f02f90-1cda-40cf-c14b-dde9bd540589",
        "colab": {
          "base_uri": "https://localhost:8080/",
          "height": 1000
        }
      },
      "source": [
        "print(\"name:\\n\\n\",df_idf.name)\n",
        "print(\"description:\\n\\n\",df_idf.description)\n",
        "#print(\"script:\\n\\n\",df_idf.script)\n",
        "\n",
        "\n"
      ],
      "execution_count": 16,
      "outputs": [
        {
          "output_type": "stream",
          "text": [
            "name:\n",
            "\n",
            " 0                                   NaN\n",
            "1         AbstractAjaxDataUpdateChecker\n",
            "2           AbstractAjaxListDragChecker\n",
            "3                 AbstractAjaxProcessor\n",
            "4                      AbstractDBObject\n",
            "5                   AbstractDeclaration\n",
            "6                          AbstractList\n",
            "7        AbstractOrignatorFinderService\n",
            "8                     AbstractParameter\n",
            "9                    AbstractReconciler\n",
            "10      AbstractSchedulePageRESTWrapper\n",
            "11              AbstractScriptProcessor\n",
            "12         AbstractTimelineSchedulePage\n",
            "13                  AbstractTransaction\n",
            "14           AbstractUpdateUIActionUtil\n",
            "15                    AbstractValidator\n",
            "16                   ACamTableProcessor\n",
            "17                         AccessFinder\n",
            "18                         AccessHelper\n",
            "19                           AccessUtil\n",
            "20                     AccessUtilErrors\n",
            "21                 ACiscoCamTableSensor\n",
            "22                   AclBasedChoiceList\n",
            "23                         ACLDescriber\n",
            "24                ACL_Access_Automation\n",
            "25                        ActionFactory\n",
            "26                        ActionFactory\n",
            "27                          ActionUtils\n",
            "28                 ActiveUpdateSetCheck\n",
            "29                      ActivityRuntime\n",
            "                     ...               \n",
            "6969                    _AnsibleControl\n",
            "6970               _AnsibleControlUtils\n",
            "6971                        _GlideUtils\n",
            "6972                        _GlideUtils\n",
            "6973                        _GlideUtils\n",
            "6974                        _GlideUtils\n",
            "6975                        _GlideUtils\n",
            "6976                        _GlideUtils\n",
            "6977                        _GlideUtils\n",
            "6978                        _GlideUtils\n",
            "6979                        _GlideUtils\n",
            "6980                        _GlideUtils\n",
            "6981                        _GlideUtils\n",
            "6982                        _GlideUtils\n",
            "6983                        _GlideUtils\n",
            "6984                        _GlideUtils\n",
            "6985                    _GlideUtilsMock\n",
            "6986                    _GlideUtilsMock\n",
            "6987                    _GlideUtilsMock\n",
            "6988                    _GlideUtilsMock\n",
            "6989                    _GlideUtilsMock\n",
            "6990                    _GlideUtilsMock\n",
            "6991                    _GlideUtilsMock\n",
            "6992                    _GlideUtilsMock\n",
            "6993                    _GlideUtilsMock\n",
            "6994                    _GlideUtilsMock\n",
            "6995                    _GlideUtilsMock\n",
            "6996                                _gr\n",
            "6997                   _Mock_GlideUtils\n",
            "6998                      _test_private\n",
            "Name: name, Length: 6999, dtype: object\n",
            "description:\n",
            "\n",
            " 0                                                     NaN\n",
            "1                           AbstractAjaxDataUpdateChecker\n",
            "2                             AbstractAjaxListDragChecker\n",
            "3       Base ajax processor class that other ajax proc...\n",
            "4       Provides common methods for classes based on r...\n",
            "5                                                     NaN\n",
            "6                                                     NaN\n",
            "7                                                     NaN\n",
            "8                                                     NaN\n",
            "9       Abstract base class for reconciling newly disc...\n",
            "10      Base schedule page wrapper class that other sc...\n",
            "11                                                    NaN\n",
            "12      Abstract timeline script include for all sched...\n",
            "13      Abstract Baseclass for a single Processor Acti...\n",
            "14      Update UI Action util to help determine if the...\n",
            "15       Abstract class for preparing the validation o...\n",
            "16                                                    NaN\n",
            "17                                                    NaN\n",
            "18                                                    NaN\n",
            "19      Common functions for configuring Access while ...\n",
            "20                      Errors for the AccessUtil library\n",
            "21                                                    NaN\n",
            "22      An ACL Based ChoiceList selector that also fil...\n",
            "23      Helper class to automatically generate descrip...\n",
            "24                                                    NaN\n",
            "25                                                    NaN\n",
            "26                                                    NaN\n",
            "27      Various utility functions to assist the execut...\n",
            "28      Determine if update set conflicts exist before...\n",
            "29                                                    NaN\n",
            "                              ...                        \n",
            "6969                                                  NaN\n",
            "6970                                                  NaN\n",
            "6971    A private class for accessing the table record...\n",
            "6972                                                  NaN\n",
            "6973    A private class for accessing the table record...\n",
            "6974                                                  NaN\n",
            "6975                                                  NaN\n",
            "6976                                                  NaN\n",
            "6977                                                  NaN\n",
            "6978                                                  NaN\n",
            "6979                                                  NaN\n",
            "6980                                                  NaN\n",
            "6981                                                  NaN\n",
            "6982                                                  NaN\n",
            "6983                                                  NaN\n",
            "6984                                                  NaN\n",
            "6985                                                  NaN\n",
            "6986                                                  NaN\n",
            "6987                                                  NaN\n",
            "6988                                                  NaN\n",
            "6989                                                  NaN\n",
            "6990                                                  NaN\n",
            "6991                                                  NaN\n",
            "6992                                                  NaN\n",
            "6993                                                  NaN\n",
            "6994                                                  NaN\n",
            "6995                                   Utility functions.\n",
            "6996                                                  NaN\n",
            "6997    Relentlessly mocks _GlideUtils, which is a pri...\n",
            "6998                                                  NaN\n",
            "Name: description, Length: 6999, dtype: object\n"
          ],
          "name": "stdout"
        }
      ]
    },
    {
      "cell_type": "code",
      "metadata": {
        "id": "vCMfBXHArsjV",
        "colab_type": "code",
        "outputId": "82ee8c9d-3643-457d-e123-7a42e927fab8",
        "colab": {
          "base_uri": "https://localhost:8080/",
          "height": 1000
        }
      },
      "source": [
        "import re\n",
        "def pre_process(text):\n",
        "    \n",
        "    # lowercase\n",
        "   # text=text.lower()\n",
        "    \n",
        "    #remove tags\n",
        "    text=re.sub(\"</?.*?>\",\" \",text)\n",
        "    \n",
        "    # remove special characters and digits\n",
        "    text=re.sub(\"(\\\\d|\\\\W)+\",\" \",text)\n",
        "    \n",
        "    return text\n",
        "\n",
        "df_idf['text'] = df_idf['name'] + df_idf['script'].fillna('')\n",
        "df_idf['text'] = df_idf['text'].astype(str)\n",
        "df_idf['text'] = df_idf['text'].apply(lambda x:pre_process(x))\n",
        "\n",
        "#show the first 'text'\n",
        "df_idf['text']"
      ],
      "execution_count": 33,
      "outputs": [
        {
          "output_type": "execute_result",
          "data": {
            "text/plain": [
              "0                                                     nan\n",
              "1       AbstractAjaxDataUpdateCheckervar AbstractAjaxD...\n",
              "2       AbstractAjaxListDragCheckervar AbstractAjaxLis...\n",
              "3       AbstractAjaxProcessor Base ajax processor clas...\n",
              "4       AbstractDBObject Discovery class Provides comm...\n",
              "5       AbstractDeclarationvar AbstractDeclaration Cla...\n",
              "6       AbstractListgs include PrototypeServer var Abs...\n",
              "7       AbstractOrignatorFinderService Abstract class ...\n",
              "8       AbstractParametervar AbstractParameter Class c...\n",
              "9       AbstractReconciler Discovery gs include Protot...\n",
              "10      AbstractSchedulePageRESTWrappervar AbstractSch...\n",
              "11      AbstractScriptProcessorvar AbstractScriptProce...\n",
              "12      AbstractTimelineSchedulePage Class Imports var...\n",
              "13      AbstractTransactiongs include PrototypeServer ...\n",
              "14      AbstractUpdateUIActionUtilvar AbstractUpdateUI...\n",
              "15      AbstractValidator Abstract class for preparing...\n",
              "16      ACamTableProcessorvar ACamTableProcessor Class...\n",
              "17                                           AccessFinder\n",
              "18      AccessHelpervar AccessHelper Class create Acce...\n",
              "19      AccessUtilvar AccessUtil Class create AccessUt...\n",
              "20      AccessUtilErrors var AccessUtilErrors Class cr...\n",
              "21      ACiscoCamTableSensorvar ACiscoCamTableSensor C...\n",
              "22      AclBasedChoiceListvar AclBasedChoiceList Class...\n",
              "23      ACLDescribervar ACLDescriber Class create ACLD...\n",
              "24      ACL_Access_Automationvar ACL_Access_Automation...\n",
              "25      ActionFactoryvar ActionFactory Class create Ac...\n",
              "26      ActionFactoryvar ActionFactory Class create Ac...\n",
              "27      ActionUtilsgs include PrototypeServer var Acti...\n",
              "28      ActiveUpdateSetCheck STRY Detecting overlappin...\n",
              "29      ActivityRuntimevar ActivityRuntime Class creat...\n",
              "                              ...                        \n",
              "6969    _AnsibleControl Main management class for inte...\n",
              "6970    _AnsibleControlUtilsvar _AnsibleControlUtils C...\n",
              "6971    _GlideUtils GlideRecord Utility Functions var ...\n",
              "6972    _GlideUtils GlideRecord Utility Functions cons...\n",
              "6973    _GlideUtilsvar _GlideUtils Class create _Glide...\n",
              "6974    _GlideUtils GlideRecord Utility Functions cons...\n",
              "6975    _GlideUtils Certificate Management GlideRecord...\n",
              "6976    _GlideUtils Datapump Management GlideRecord Ut...\n",
              "6977    _GlideUtils GlideRecord Utility Functions cons...\n",
              "6978    _GlideUtils Certificate Management GlideRecord...\n",
              "6979    _GlideUtils GlideRecord Utility Functions cons...\n",
              "6980    _GlideUtils GlideRecord Utility Functions cons...\n",
              "6981    _GlideUtils Certificate Management GlideRecord...\n",
              "6982    _GlideUtils Certificate Management GlideRecord...\n",
              "6983    _GlideUtils ZTP Management GlideRecord Utility...\n",
              "6984    _GlideUtils Certificate Management GlideRecord...\n",
              "6985    _GlideUtilsMock MOCK of Certificate Management...\n",
              "6986    _GlideUtilsMock MOCK of Certificate Management...\n",
              "6987    _GlideUtilsMockvar _GlideUtilsMock Class creat...\n",
              "6988    _GlideUtilsMock MOCK of Certificate Management...\n",
              "6989    _GlideUtilsMockvar _GlideUtilsMock Class creat...\n",
              "6990    _GlideUtilsMock MOCK of ZTP Management Utility...\n",
              "6991    _GlideUtilsMock MOCK of Certificate Management...\n",
              "6992    _GlideUtilsMock MOCK of DNS Management Utility...\n",
              "6993    _GlideUtilsMock MOCK of Network Capture GlideR...\n",
              "6994    _GlideUtilsMock MOCK of Certificate Management...\n",
              "6995    _GlideUtilsMock MOCK of Certificate Management...\n",
              "6996    _grvar _gr function gr return map function ite...\n",
              "6997    _Mock_GlideUtilsvar _Mock_GlideUtils Class cre...\n",
              "6998    _test_privatevar _test_private Class create _t...\n",
              "Name: text, Length: 6999, dtype: object"
            ]
          },
          "metadata": {
            "tags": []
          },
          "execution_count": 33
        }
      ]
    },
    {
      "cell_type": "code",
      "metadata": {
        "id": "uFGIBEW5tHzr",
        "colab_type": "code",
        "outputId": "f24dd7e9-e32a-43ab-8b19-8e273bcd01d1",
        "colab": {
          "base_uri": "https://localhost:8080/",
          "height": 71
        }
      },
      "source": [
        "from sklearn.feature_extraction.text import CountVectorizer\n",
        "import re\n",
        "\n",
        "def get_stop_words(stop_file_path):\n",
        "    \"\"\"load stop words \"\"\"\n",
        "    \n",
        "    with open(stop_file_path, 'r', encoding=\"utf-8\") as f:\n",
        "        stopwords = f.readlines()\n",
        "        stop_set = set(m.strip() for m in stopwords)\n",
        "        return frozenset(stop_set)\n",
        "\n",
        "#load a set of stop words\n",
        "stopwords=get_stop_words(\"stopwords.txt\")\n",
        "\n",
        "#get the text column \n",
        "docs=df_idf['text'].fillna(' ').tolist()\n",
        "\n",
        "#create a vocabulary of words, \n",
        "#ignore words that appear in 85% of documents, \n",
        "#eliminate stop words\n",
        "cv=CountVectorizer(max_df=0.85,stop_words=stopwords)\n",
        "word_count_vector=cv.fit_transform(docs)"
      ],
      "execution_count": 34,
      "outputs": [
        {
          "output_type": "stream",
          "text": [
            "/usr/local/lib/python3.6/dist-packages/sklearn/feature_extraction/text.py:300: UserWarning: Your stop_words may be inconsistent with your preprocessing. Tokenizing the stop words generated tokens ['glideaggregate', 'gliderecord'] not in stop_words.\n",
            "  'stop_words.' % sorted(inconsistent))\n"
          ],
          "name": "stderr"
        }
      ]
    },
    {
      "cell_type": "code",
      "metadata": {
        "id": "RPlzQBC2xEOP",
        "colab_type": "code",
        "outputId": "e8e759fa-ef37-430c-c2bb-9452641fff87",
        "colab": {
          "base_uri": "https://localhost:8080/",
          "height": 34
        }
      },
      "source": [
        "word_count_vector.shape\n"
      ],
      "execution_count": 35,
      "outputs": [
        {
          "output_type": "execute_result",
          "data": {
            "text/plain": [
              "(6999, 152378)"
            ]
          },
          "metadata": {
            "tags": []
          },
          "execution_count": 35
        }
      ]
    },
    {
      "cell_type": "code",
      "metadata": {
        "id": "U7VT_JbFxXNU",
        "colab_type": "code",
        "outputId": "12319bf1-dab6-450f-ab1b-3dbfe663e7ad",
        "colab": {
          "base_uri": "https://localhost:8080/",
          "height": 34
        }
      },
      "source": [
        "from sklearn.feature_extraction.text import TfidfTransformer\n",
        "\n",
        "tfidf_transformer=TfidfTransformer(smooth_idf=True,use_idf=True)\n",
        "tfidf_transformer.fit(word_count_vector)"
      ],
      "execution_count": 36,
      "outputs": [
        {
          "output_type": "execute_result",
          "data": {
            "text/plain": [
              "TfidfTransformer(norm='l2', smooth_idf=True, sublinear_tf=False, use_idf=True)"
            ]
          },
          "metadata": {
            "tags": []
          },
          "execution_count": 36
        }
      ]
    },
    {
      "cell_type": "code",
      "metadata": {
        "id": "M9lpwJvyxZn9",
        "colab_type": "code",
        "outputId": "1df164fe-b001-49b4-bc69-b7e907114f64",
        "colab": {
          "base_uri": "https://localhost:8080/",
          "height": 51
        }
      },
      "source": [
        "tfidf_transformer.idf_\n"
      ],
      "execution_count": 37,
      "outputs": [
        {
          "output_type": "execute_result",
          "data": {
            "text/plain": [
              "array([8.06190596, 8.46737107, 8.75505314, ..., 9.16051825, 9.16051825,\n",
              "       9.16051825])"
            ]
          },
          "metadata": {
            "tags": []
          },
          "execution_count": 37
        }
      ]
    },
    {
      "cell_type": "code",
      "metadata": {
        "id": "e0_c-czMzfA-",
        "colab_type": "code",
        "colab": {}
      },
      "source": [
        "df_test=pd.read_csv(io.BytesIO(uploaded['ScriptIncludesInfo.csv']), encoding='cp1252')\n",
        "df_test['text'] = df_test['name'] + df_test['script'].fillna('')\n",
        "df_test['text'] = df_test['text'].astype(str)\n",
        "df_test['text'] =df_test['text'].apply(lambda x:pre_process(x))\n",
        "\n",
        "# get test docs into a list\n",
        "docs_test=df_test['text'].tolist()\n",
        "docs_name=df_test['name'].tolist()\n",
        "docs_script=df_test['script'].tolist()"
      ],
      "execution_count": 0,
      "outputs": []
    },
    {
      "cell_type": "code",
      "metadata": {
        "id": "zKMHZmbl0CZE",
        "colab_type": "code",
        "colab": {}
      },
      "source": [
        "def sort_coo(coo_matrix):\n",
        "    tuples = zip(coo_matrix.col, coo_matrix.data)\n",
        "    return sorted(tuples, key=lambda x: (x[1], x[0]), reverse=True)\n",
        "\n",
        "def extract_topn_from_vector(feature_names, sorted_items, topn=10):\n",
        "    \"\"\"get the feature names and tf-idf score of top n items\"\"\"\n",
        "    \n",
        "    #use only topn items from vector\n",
        "    sorted_items = sorted_items[:topn]\n",
        "\n",
        "    score_vals = []\n",
        "    feature_vals = []\n",
        "\n",
        "    for idx, score in sorted_items:\n",
        "        fname = feature_names[idx]\n",
        "        \n",
        "        #keep track of feature name and its corresponding score\n",
        "        score_vals.append(round(score, 3))\n",
        "        feature_vals.append(feature_names[idx])\n",
        "\n",
        "    #create a tuples of feature,score\n",
        "    #results = zip(feature_vals,score_vals)\n",
        "    results= {}\n",
        "    for idx in range(len(feature_vals)):\n",
        "        results[feature_vals[idx]]=score_vals[idx]\n",
        "    \n",
        "    return results"
      ],
      "execution_count": 0,
      "outputs": []
    },
    {
      "cell_type": "code",
      "metadata": {
        "id": "VNgxXjLA0I7R",
        "colab_type": "code",
        "colab": {
          "base_uri": "https://localhost:8080/",
          "height": 1000
        },
        "outputId": "a0705b5b-5d14-4efd-9854-f23b50980d0c"
      },
      "source": [
        "# you only needs to do this once\n",
        "feature_names=cv.get_feature_names()\n",
        "\n",
        "# get the document that we want to extract keywords from\n",
        "doc=docs_test[1]\n",
        "\n",
        "#generate tf-idf for the given document\n",
        "tf_idf_vector=tfidf_transformer.transform(cv.transform([doc]))\n",
        "\n",
        "#sort the tf-idf vectors by descending order of scores\n",
        "sorted_items=sort_coo(tf_idf_vector.tocoo())\n",
        "\n",
        "#extract only the top n; n here is 10\n",
        "keywords=extract_topn_from_vector(feature_names,sorted_items,10)\n",
        "\n",
        "# now print the results\n",
        "print(\"\\n=====Name=====\")\n",
        "print(docs_title[1])\n",
        "print(\"\\n=====script=====\")\n",
        "print(docs_script[1])\n",
        "print(\"\\n===Keywords===\")\n",
        "for k in keywords:\n",
        "    print(k,keywords[k])"
      ],
      "execution_count": 40,
      "outputs": [
        {
          "output_type": "stream",
          "text": [
            "\n",
            "=====Name=====\n",
            "AbstractAjaxDataUpdateChecker\n",
            "\n",
            "=====script=====\n",
            "var AbstractAjaxDataUpdateChecker = Class.create();\r\n",
            "AbstractAjaxDataUpdateChecker.prototype = Object.extendsObject(AbstractAjaxProcessor, {\r\n",
            "   updateData: function() {\r\n",
            "      var itemID = this.getParameter('sysparm_item_id');\r\n",
            "      var userLanguage = this.getParameter('sysparm_user_language');\r\n",
            "      var table = this.getTableName();\r\n",
            "      var result = \"\";\r\n",
            "      if (itemID != \"\" && table != null){\r\n",
            "         var gr = new GlideRecord(table);\r\n",
            "         gr.addQuery('sys_id', itemID);\r\n",
            "         gr.query();\r\n",
            "         if (gr.next()){\r\n",
            "            var values = this.getNewValues(itemID, gr.state);\r\n",
            "            if (values){\r\n",
            "               gr.state = values[0];\r\n",
            "               gr.blocked = values[1];\r\n",
            "               gr.blocked_reason = values[2];\r\n",
            "               gr.update();\r\n",
            "               result = values.join(\"|\");\r\n",
            "            }\r\n",
            "         }\r\n",
            "      }\r\n",
            "      return result;\r\n",
            "   },\r\n",
            "\r\n",
            "   whatWillChange: function() {\r\n",
            "      var itemID = this.getParameter('sysparm_item_id');\r\n",
            "      var userLanguage = this.getParameter('sysparm_user_language');      \r\n",
            "      var table = this.getTableName();\r\n",
            "      var result = [];\r\n",
            "      if (itemID != \"\" && table != null){\r\n",
            "         var gr = new GlideRecord(table);\r\n",
            "         gr.addQuery('sys_id', itemID);\r\n",
            "         gr.query();\r\n",
            "         if (gr.next()){\r\n",
            "            var values = this.getNewValues(itemID, gr.state);\r\n",
            "            if (values){\r\n",
            "               result = this.getChangeMessages(gr, values);\r\n",
            "            }\r\n",
            "         }\r\n",
            "      }\r\n",
            "      return result.join(\"|\");\r\n",
            "   },\r\n",
            "\r\n",
            "   getChangeMessages: function(gr, values){\r\n",
            "      return [];\r\n",
            "   },\r\n",
            "\r\n",
            "   getNewValues: function(itemID, currentState){\r\n",
            "      return null;\r\n",
            "   },\r\n",
            "\r\n",
            "   getTableName: function(){\r\n",
            "      return null;\r\n",
            "   },\r\n",
            "\t\r\n",
            "\t/**\r\n",
            "\t * Prevent public access to this processor\r\n",
            "\t */\r\n",
            "\tisPublic: function() {\r\n",
            "\t\treturn false;\r\n",
            "\t}\r\n",
            "});\r\n",
            "\n",
            "\n",
            "===Keywords===\n",
            "itemid 0.637\n",
            "values 0.344\n",
            "gr 0.33\n",
            "getnewvalues 0.273\n",
            "getchangemessages 0.182\n",
            "abstractajaxdataupdatechecker 0.182\n",
            "userlanguage 0.171\n",
            "sysparm_user_language 0.171\n",
            "sysparm_item_id 0.171\n",
            "table 0.133\n"
          ],
          "name": "stdout"
        }
      ]
    }
  ]
}